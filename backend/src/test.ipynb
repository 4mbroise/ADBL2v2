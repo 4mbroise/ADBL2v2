{
 "cells": [
  {
   "cell_type": "code",
   "execution_count": 1,
   "metadata": {},
   "outputs": [
    {
     "name": "stdout",
     "output_type": "stream",
     "text": [
      "gpt2-medium\n",
      "{'input_ids': [15496, 2159]}\n",
      "MSG [{\"stream_id\": 1, \"model_info\": {\"model\": \"gpt2-medium\", \"model_type\": \"transformers\", \"constructor\": \"AutoModelForCausalLM.from_pretrained('gpt2-medium', device_map=auto)]\", \"transformers\": \"4.38.1\"}}]\n"
     ]
    }
   ],
   "source": [
    "from websockets.sync.client import connect\n",
    "from lmql.runtime.tokenizer import tokenizer\n",
    "\n",
    "with connect(\"ws://localhost:8080\") as websocket:\n",
    "    tokenizer = tokenizer(\"gpt2-medium\")\n",
    "    print(tokenizer(\"Hello World\"))\n",
    "\n",
    "    websocket.send('MODEL_INFO { \"stream_id\": 1, \"model\": \"gpt2-medium\" }')\n",
    "    \n",
    "    message = websocket.recv()\n",
    "    print(message)"
   ]
  },
  {
   "cell_type": "code",
   "execution_count": 6,
   "metadata": {},
   "outputs": [
    {
     "name": "stdout",
     "output_type": "stream",
     "text": [
      "google/gemma-2b\n",
      "{'attack': 0.2660160092872289, 'support': 0.7339839907127704}\n"
     ]
    }
   ],
   "source": [
    "import lmql \n",
    "import asyncio\n",
    "\n",
    "completion = [\"attack\", \"support\"]\n",
    "\n",
    "async def test():\n",
    "    model = lmql.model(\"google/gemma-2b\")\n",
    "    scoreRes = await model.score(\"Hello\", [\"attack\", \"support\"])\n",
    "\n",
    "    \n",
    "    \n",
    "    print(dict(zip(completion, scoreRes.probs())))\n",
    "    \n",
    "await test()\n"
   ]
  },
  {
   "cell_type": "code",
   "execution_count": 3,
   "metadata": {},
   "outputs": [],
   "source": [
    "# asyncio.run()"
   ]
  },
  {
   "cell_type": "markdown",
   "metadata": {},
   "source": [
    "MODEL_INFO { \"stream_id\": 1, \"model\": \"gpt2-medium@ }"
   ]
  },
  {
   "cell_type": "code",
   "execution_count": null,
   "metadata": {},
   "outputs": [],
   "source": []
  }
 ],
 "metadata": {
  "kernelspec": {
   "display_name": "lqml",
   "language": "python",
   "name": "python3"
  },
  "language_info": {
   "codemirror_mode": {
    "name": "ipython",
    "version": 3
   },
   "file_extension": ".py",
   "mimetype": "text/x-python",
   "name": "python",
   "nbconvert_exporter": "python",
   "pygments_lexer": "ipython3",
   "version": "3.10.12"
  }
 },
 "nbformat": 4,
 "nbformat_minor": 2
}
